{
 "cells": [
  {
   "cell_type": "markdown",
   "metadata": {},
   "source": [
    "# Load Spark Session"
   ]
  },
  {
   "cell_type": "code",
   "execution_count": 1,
   "metadata": {},
   "outputs": [],
   "source": [
    "import findspark\n",
    "findspark.init()"
   ]
  },
  {
   "cell_type": "code",
   "execution_count": 2,
   "metadata": {},
   "outputs": [],
   "source": [
    "from pyspark.sql import SparkSession\n",
    "\n",
    "# Create Spark Session\n",
    "spark = SparkSession \\\n",
    "    .builder \\\n",
    "    .appName(\"Recommendation Systems\") \\\n",
    "    .getOrCreate()"
   ]
  },
  {
   "cell_type": "code",
   "execution_count": 3,
   "metadata": {},
   "outputs": [
    {
     "name": "stdout",
     "output_type": "stream",
     "text": [
      "<pyspark.sql.session.SparkSession object at 0x0000022B6736AF28>\n"
     ]
    }
   ],
   "source": [
    "print(spark)"
   ]
  },
  {
   "cell_type": "markdown",
   "metadata": {},
   "source": [
    "# Pre Processing"
   ]
  },
  {
   "cell_type": "code",
   "execution_count": 4,
   "metadata": {},
   "outputs": [],
   "source": [
    "from pyspark.ml.evaluation import RegressionEvaluator"
   ]
  },
  {
   "cell_type": "code",
   "execution_count": 5,
   "metadata": {},
   "outputs": [],
   "source": [
    "from pyspark.ml.recommendation import ALS"
   ]
  },
  {
   "cell_type": "code",
   "execution_count": 6,
   "metadata": {},
   "outputs": [],
   "source": [
    "from pyspark.sql import Row"
   ]
  },
  {
   "cell_type": "code",
   "execution_count": 7,
   "metadata": {},
   "outputs": [],
   "source": [
    "lines = spark.read.text(\"dataset5.txt\").rdd"
   ]
  },
  {
   "cell_type": "code",
   "execution_count": 8,
   "metadata": {},
   "outputs": [
    {
     "name": "stdout",
     "output_type": "stream",
     "text": [
      "[Row(value='1\\t6\\t5\\t887431973'), Row(value='1\\t10\\t3\\t875693118'), Row(value='1\\t12\\t5\\t878542960'), Row(value='1\\t14\\t5\\t874965706'), Row(value='1\\t17\\t3\\t875073198')]\n"
     ]
    }
   ],
   "source": [
    "print(lines.take(5))"
   ]
  },
  {
   "cell_type": "code",
   "execution_count": 9,
   "metadata": {},
   "outputs": [],
   "source": [
    "part = lines.map(lambda row: row.value.split(\"\\t\"))"
   ]
  },
  {
   "cell_type": "code",
   "execution_count": 10,
   "metadata": {},
   "outputs": [
    {
     "name": "stdout",
     "output_type": "stream",
     "text": [
      "[['1', '6', '5', '887431973'], ['1', '10', '3', '875693118'], ['1', '12', '5', '878542960'], ['1', '14', '5', '874965706'], ['1', '17', '3', '875073198']]\n"
     ]
    }
   ],
   "source": [
    "print(part.take(5))"
   ]
  },
  {
   "cell_type": "code",
   "execution_count": 11,
   "metadata": {},
   "outputs": [],
   "source": [
    "data = part.map(lambda p: Row(userId=int(p[0]), itemId=int(p[1]),\n",
    "                                     rating=float(p[2]), timestamp=int(p[3])))"
   ]
  },
  {
   "cell_type": "code",
   "execution_count": 12,
   "metadata": {},
   "outputs": [
    {
     "name": "stdout",
     "output_type": "stream",
     "text": [
      "[Row(itemId=6, rating=5.0, timestamp=887431973, userId=1), Row(itemId=10, rating=3.0, timestamp=875693118, userId=1), Row(itemId=12, rating=5.0, timestamp=878542960, userId=1), Row(itemId=14, rating=5.0, timestamp=874965706, userId=1), Row(itemId=17, rating=3.0, timestamp=875073198, userId=1)]\n"
     ]
    }
   ],
   "source": [
    "print(data.take(5))"
   ]
  },
  {
   "cell_type": "code",
   "execution_count": 13,
   "metadata": {},
   "outputs": [],
   "source": [
    "rec = spark.createDataFrame(data)"
   ]
  },
  {
   "cell_type": "code",
   "execution_count": 14,
   "metadata": {},
   "outputs": [
    {
     "name": "stdout",
     "output_type": "stream",
     "text": [
      "+------+------+---------+------+\n",
      "|itemId|rating|timestamp|userId|\n",
      "+------+------+---------+------+\n",
      "|     6|   5.0|887431973|     1|\n",
      "|    10|   3.0|875693118|     1|\n",
      "|    12|   5.0|878542960|     1|\n",
      "|    14|   5.0|874965706|     1|\n",
      "|    17|   3.0|875073198|     1|\n",
      "|    20|   4.0|887431883|     1|\n",
      "|    23|   4.0|875072895|     1|\n",
      "|    24|   3.0|875071713|     1|\n",
      "|    27|   2.0|876892946|     1|\n",
      "|    31|   3.0|875072144|     1|\n",
      "|    33|   4.0|878542699|     1|\n",
      "|    36|   2.0|875073180|     1|\n",
      "|    39|   4.0|875072173|     1|\n",
      "|    44|   5.0|878543541|     1|\n",
      "|    47|   4.0|875072125|     1|\n",
      "|    49|   3.0|878542478|     1|\n",
      "|    51|   4.0|878543275|     1|\n",
      "|    53|   3.0|876893206|     1|\n",
      "|    54|   3.0|878543308|     1|\n",
      "|    56|   4.0|875072716|     1|\n",
      "+------+------+---------+------+\n",
      "only showing top 20 rows\n",
      "\n"
     ]
    }
   ],
   "source": [
    "rec.show()"
   ]
  },
  {
   "cell_type": "markdown",
   "metadata": {},
   "source": [
    "# Create Model and Result"
   ]
  },
  {
   "cell_type": "code",
   "execution_count": 15,
   "metadata": {},
   "outputs": [],
   "source": [
    "(training, test) = rec.randomSplit([0.8, 0.2])"
   ]
  },
  {
   "cell_type": "code",
   "execution_count": 16,
   "metadata": {},
   "outputs": [],
   "source": [
    "als = ALS(maxIter=5, regParam=0.01, userCol=\"userId\", itemCol=\"itemId\", ratingCol=\"rating\",\n",
    "          coldStartStrategy=\"drop\")\n",
    "model = als.fit(training)"
   ]
  },
  {
   "cell_type": "code",
   "execution_count": 17,
   "metadata": {},
   "outputs": [
    {
     "name": "stdout",
     "output_type": "stream",
     "text": [
      "Root-mean-square error = 1.4740823056361259\n"
     ]
    }
   ],
   "source": [
    "predictions = model.transform(test)\n",
    "evaluator = RegressionEvaluator(metricName=\"rmse\", labelCol=\"rating\",\n",
    "                                predictionCol=\"prediction\")\n",
    "rmse = evaluator.evaluate(predictions)\n",
    "print(\"Root-mean-square error = \" + str(rmse))"
   ]
  },
  {
   "cell_type": "code",
   "execution_count": 18,
   "metadata": {},
   "outputs": [],
   "source": [
    "recuser = model.recommendForAllUsers(10)"
   ]
  },
  {
   "cell_type": "code",
   "execution_count": 19,
   "metadata": {},
   "outputs": [],
   "source": [
    "recmovie = model.recommendForAllItems(10)"
   ]
  },
  {
   "cell_type": "code",
   "execution_count": 20,
   "metadata": {},
   "outputs": [
    {
     "name": "stdout",
     "output_type": "stream",
     "text": [
      "+------+--------------------+\n",
      "|userId|     recommendations|\n",
      "+------+--------------------+\n",
      "|   148|[[770, 7.830649],...|\n",
      "|   392|[[1100, 7.861853]...|\n",
      "|   243|[[727, 5.6191583]...|\n",
      "|    31|[[582, 8.057912],...|\n",
      "|   251|[[671, 8.962639],...|\n",
      "|   451|[[763, 7.378364],...|\n",
      "|    85|[[664, 4.876044],...|\n",
      "|   137|[[813, 9.26441], ...|\n",
      "|    65|[[1100, 9.796213]...|\n",
      "|   458|[[114, 4.69701], ...|\n",
      "|    53|[[408, 8.038853],...|\n",
      "|   255|[[408, 9.5308], [...|\n",
      "|   133|[[512, 5.617704],...|\n",
      "|   296|[[1039, 6.736469]...|\n",
      "|   322|[[101, 8.41664], ...|\n",
      "|    78|[[224, 10.928649]...|\n",
      "|   321|[[512, 5.6258135]...|\n",
      "|   362|[[664, 6.4836144]...|\n",
      "|   375|[[770, 7.517901],...|\n",
      "|   155|[[895, 7.667574],...|\n",
      "+------+--------------------+\n",
      "only showing top 20 rows\n",
      "\n"
     ]
    }
   ],
   "source": [
    "recuser.show()"
   ]
  },
  {
   "cell_type": "code",
   "execution_count": 21,
   "metadata": {},
   "outputs": [
    {
     "name": "stdout",
     "output_type": "stream",
     "text": [
      "+------+--------------------+\n",
      "|itemId|     recommendations|\n",
      "+------+--------------------+\n",
      "|   471|[[127, 7.2769604]...|\n",
      "|  1591|[[445, 3.9397576]...|\n",
      "|  1342|[[432, 2.0495114]...|\n",
      "|   463|[[282, 8.47162], ...|\n",
      "|   833|[[164, 5.753483],...|\n",
      "|   496|[[261, 10.102193]...|\n",
      "|   148|[[225, 6.911752],...|\n",
      "|  1088|[[432, 3.6580672]...|\n",
      "|  1238|[[341, 2.5881758]...|\n",
      "|   540|[[127, 6.5051794]...|\n",
      "|   392|[[261, 8.603705],...|\n",
      "|  1522|[[436, 1.9089429]...|\n",
      "|   243|[[127, 4.931908],...|\n",
      "|   623|[[261, 6.427389],...|\n",
      "|  1084|[[412, 5.9489646]...|\n",
      "|  1025|[[182, 9.078432],...|\n",
      "|  1395|[[432, 2.0495114]...|\n",
      "|   737|[[282, 11.114335]...|\n",
      "|  1127|[[176, 4.9422536]...|\n",
      "|  1270|[[282, 3.4825702]...|\n",
      "+------+--------------------+\n",
      "only showing top 20 rows\n",
      "\n"
     ]
    }
   ],
   "source": [
    "recmovie.show()"
   ]
  },
  {
   "cell_type": "code",
   "execution_count": null,
   "metadata": {},
   "outputs": [],
   "source": []
  }
 ],
 "metadata": {
  "kernelspec": {
   "display_name": "Python 3",
   "language": "python",
   "name": "python3"
  },
  "language_info": {
   "codemirror_mode": {
    "name": "ipython",
    "version": 3
   },
   "file_extension": ".py",
   "mimetype": "text/x-python",
   "name": "python",
   "nbconvert_exporter": "python",
   "pygments_lexer": "ipython3",
   "version": "3.6.8"
  }
 },
 "nbformat": 4,
 "nbformat_minor": 2
}
