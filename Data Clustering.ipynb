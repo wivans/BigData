{
 "cells": [
  {
   "cell_type": "markdown",
   "metadata": {},
   "source": [
    "# Assignment 2 - Data Clustering"
   ]
  },
  {
   "cell_type": "markdown",
   "metadata": {},
   "source": [
    "Dataset name : London Crime Data, 2008 - 2016\n",
    "\n",
    "Dataset Description : Crime in major metropolitan areas, such as London, occurs in distinct patterns. This data covers the number of criminal reports by month, LSOA borough, and major/minor category from Jan 2008-Dec 2016."
   ]
  },
  {
   "cell_type": "markdown",
   "metadata": {},
   "source": [
    "# Initiating Spark"
   ]
  },
  {
   "cell_type": "code",
   "execution_count": 1,
   "metadata": {},
   "outputs": [],
   "source": [
    "import findspark\n",
    "findspark.init()"
   ]
  },
  {
   "cell_type": "code",
   "execution_count": 2,
   "metadata": {},
   "outputs": [],
   "source": [
    "from pyspark.sql import SparkSession"
   ]
  },
  {
   "cell_type": "code",
   "execution_count": 3,
   "metadata": {},
   "outputs": [],
   "source": [
    "spark = SparkSession \\\n",
    "    .builder \\\n",
    "    .appName(\"Data Clustering\") \\\n",
    "    .getOrCreate()"
   ]
  },
  {
   "cell_type": "code",
   "execution_count": 4,
   "metadata": {},
   "outputs": [
    {
     "name": "stdout",
     "output_type": "stream",
     "text": [
      "<pyspark.sql.session.SparkSession object at 0x000002B909B577F0>\n"
     ]
    }
   ],
   "source": [
    "print(spark)"
   ]
  },
  {
   "cell_type": "markdown",
   "metadata": {},
   "source": [
    "# Loading Dataset"
   ]
  },
  {
   "cell_type": "code",
   "execution_count": 5,
   "metadata": {},
   "outputs": [],
   "source": [
    "df = spark.read.csv(\"F:/dataset/london_crime_by_lsoa.csv\", header=True, inferSchema=True)"
   ]
  },
  {
   "cell_type": "code",
   "execution_count": 6,
   "metadata": {},
   "outputs": [
    {
     "data": {
      "text/plain": [
       "13490604"
      ]
     },
     "execution_count": 6,
     "metadata": {},
     "output_type": "execute_result"
    }
   ],
   "source": [
    "df.count()"
   ]
  },
  {
   "cell_type": "code",
   "execution_count": 7,
   "metadata": {},
   "outputs": [
    {
     "name": "stdout",
     "output_type": "stream",
     "text": [
      "+---------+--------------------+--------------------+--------------------+-----+----+-----+\n",
      "|lsoa_code|             borough|      major_category|      minor_category|value|year|month|\n",
      "+---------+--------------------+--------------------+--------------------+-----+----+-----+\n",
      "|E01001116|             Croydon|            Burglary|Burglary in Other...|    0|2016|   11|\n",
      "|E01001646|           Greenwich|Violence Against ...|      Other violence|    0|2016|   11|\n",
      "|E01000677|             Bromley|Violence Against ...|      Other violence|    0|2015|    5|\n",
      "|E01003774|           Redbridge|            Burglary|Burglary in Other...|    0|2016|    3|\n",
      "|E01004563|          Wandsworth|             Robbery|   Personal Property|    0|2008|    6|\n",
      "|E01001320|              Ealing|  Theft and Handling|         Other Theft|    0|2012|    5|\n",
      "|E01001342|              Ealing|Violence Against ...|    Offensive Weapon|    0|2010|    7|\n",
      "|E01002633|            Hounslow|             Robbery|   Personal Property|    0|2013|    4|\n",
      "|E01003496|              Newham|     Criminal Damage|Criminal Damage T...|    0|2013|    9|\n",
      "|E01004177|              Sutton|  Theft and Handling|Theft/Taking of P...|    1|2016|    8|\n",
      "|E01001985|            Haringey|  Theft and Handling|Motor Vehicle Int...|    0|2013|   12|\n",
      "|E01003076|             Lambeth|Violence Against ...|      Other violence|    0|2015|    4|\n",
      "|E01003852|Richmond upon Thames|             Robbery|   Personal Property|    0|2014|    1|\n",
      "|E01004547|          Wandsworth|Violence Against ...|    Offensive Weapon|    0|2011|   10|\n",
      "|E01002398|          Hillingdon|  Theft and Handling|Theft/Taking Of M...|    0|2016|    2|\n",
      "|E01002358|            Havering|Violence Against ...|        Wounding/GBH|    0|2012|    2|\n",
      "|E01000086|Barking and Dagenham|  Theft and Handling|  Other Theft Person|    1|2009|    5|\n",
      "|E01003708|           Redbridge|Violence Against ...|      Common Assault|    0|2009|    6|\n",
      "|E01002945|Kingston upon Thames|  Theft and Handling|    Theft From Shops|    0|2016|   11|\n",
      "|E01004195|              Sutton|               Drugs| Possession Of Drugs|    0|2009|   10|\n",
      "+---------+--------------------+--------------------+--------------------+-----+----+-----+\n",
      "only showing top 20 rows\n",
      "\n"
     ]
    }
   ],
   "source": [
    "df.show()"
   ]
  },
  {
   "cell_type": "code",
   "execution_count": 8,
   "metadata": {},
   "outputs": [
    {
     "data": {
      "text/plain": [
       "StructType(List(StructField(lsoa_code,StringType,true),StructField(borough,StringType,true),StructField(major_category,StringType,true),StructField(minor_category,StringType,true),StructField(value,IntegerType,true),StructField(year,IntegerType,true),StructField(month,IntegerType,true)))"
      ]
     },
     "execution_count": 8,
     "metadata": {},
     "output_type": "execute_result"
    }
   ],
   "source": [
    "df.schema"
   ]
  },
  {
   "cell_type": "code",
   "execution_count": 9,
   "metadata": {},
   "outputs": [],
   "source": [
    "df.createOrReplaceTempView('londoncrime')"
   ]
  },
  {
   "cell_type": "markdown",
   "metadata": {},
   "source": [
    "# Training"
   ]
  },
  {
   "cell_type": "markdown",
   "metadata": {},
   "source": [
    "### 1. Data"
   ]
  },
  {
   "cell_type": "code",
   "execution_count": 10,
   "metadata": {},
   "outputs": [],
   "source": [
    "data1=spark.sql(\"SELECT borough, count(borough) AS TOTAL FROM londoncrime GROUP BY borough LIMIT 100\")"
   ]
  },
  {
   "cell_type": "code",
   "execution_count": 11,
   "metadata": {},
   "outputs": [
    {
     "name": "stdout",
     "output_type": "stream",
     "text": [
      "+--------------------+------+\n",
      "|             borough| TOTAL|\n",
      "+--------------------+------+\n",
      "|             Croydon|602100|\n",
      "|          Wandsworth|498636|\n",
      "|              Bexley|385668|\n",
      "|             Lambeth|519048|\n",
      "|Barking and Dagenham|311040|\n",
      "|              Camden|378432|\n",
      "|           Greenwich|421200|\n",
      "|              Newham|471420|\n",
      "|       Tower Hamlets|412128|\n",
      "|            Hounslow|395928|\n",
      "|              Barnet|572832|\n",
      "|              Harrow|365688|\n",
      "|Kensington and Ch...|296784|\n",
      "|           Islington|359208|\n",
      "|               Brent|490644|\n",
      "|            Haringey|413856|\n",
      "|             Bromley|523908|\n",
      "|              Merton|339876|\n",
      "|         Westminster|366660|\n",
      "|             Hackney|417744|\n",
      "+--------------------+------+\n",
      "only showing top 20 rows\n",
      "\n"
     ]
    }
   ],
   "source": [
    "data1.show()"
   ]
  },
  {
   "cell_type": "code",
   "execution_count": 12,
   "metadata": {},
   "outputs": [
    {
     "data": {
      "text/plain": [
       "33"
      ]
     },
     "execution_count": 12,
     "metadata": {},
     "output_type": "execute_result"
    }
   ],
   "source": [
    "data1.count()"
   ]
  },
  {
   "cell_type": "markdown",
   "metadata": {},
   "source": [
    "### 2. Vector"
   ]
  },
  {
   "cell_type": "code",
   "execution_count": 13,
   "metadata": {},
   "outputs": [
    {
     "name": "stdout",
     "output_type": "stream",
     "text": [
      "+--------------------+------+----------+\n",
      "|             borough| TOTAL|  features|\n",
      "+--------------------+------+----------+\n",
      "|             Croydon|602100|[602100.0]|\n",
      "|          Wandsworth|498636|[498636.0]|\n",
      "|              Bexley|385668|[385668.0]|\n",
      "|             Lambeth|519048|[519048.0]|\n",
      "|Barking and Dagenham|311040|[311040.0]|\n",
      "|              Camden|378432|[378432.0]|\n",
      "|           Greenwich|421200|[421200.0]|\n",
      "|              Newham|471420|[471420.0]|\n",
      "|       Tower Hamlets|412128|[412128.0]|\n",
      "|            Hounslow|395928|[395928.0]|\n",
      "|              Barnet|572832|[572832.0]|\n",
      "|              Harrow|365688|[365688.0]|\n",
      "|Kensington and Ch...|296784|[296784.0]|\n",
      "|           Islington|359208|[359208.0]|\n",
      "|               Brent|490644|[490644.0]|\n",
      "|            Haringey|413856|[413856.0]|\n",
      "|             Bromley|523908|[523908.0]|\n",
      "|              Merton|339876|[339876.0]|\n",
      "|         Westminster|366660|[366660.0]|\n",
      "|             Hackney|417744|[417744.0]|\n",
      "+--------------------+------+----------+\n",
      "only showing top 20 rows\n",
      "\n"
     ]
    }
   ],
   "source": [
    "from pyspark.ml.feature import VectorAssembler\n",
    "\n",
    "assembler = VectorAssembler(\n",
    "    inputCols=[\"TOTAL\"],\n",
    "    outputCol='features')\n",
    "\n",
    "data1 = assembler.transform(data1)\n",
    "data1.show()"
   ]
  },
  {
   "cell_type": "markdown",
   "metadata": {},
   "source": [
    "### 3. Training Model"
   ]
  },
  {
   "cell_type": "code",
   "execution_count": 14,
   "metadata": {},
   "outputs": [],
   "source": [
    "from pyspark.ml.clustering import KMeans\n",
    "from pyspark.ml.evaluation import ClusteringEvaluator\n",
    "\n",
    "kmeans = KMeans().setK(3).setSeed(1)\n",
    "model = kmeans.fit(data1)"
   ]
  },
  {
   "cell_type": "markdown",
   "metadata": {},
   "source": [
    "### 4. Model"
   ]
  },
  {
   "cell_type": "code",
   "execution_count": 15,
   "metadata": {},
   "outputs": [],
   "source": [
    "predictions = model.transform(data1)"
   ]
  },
  {
   "cell_type": "code",
   "execution_count": 16,
   "metadata": {},
   "outputs": [
    {
     "name": "stdout",
     "output_type": "stream",
     "text": [
      "+--------------------+------+----------+----------+\n",
      "|             borough| TOTAL|  features|prediction|\n",
      "+--------------------+------+----------+----------+\n",
      "|             Croydon|602100|[602100.0]|         0|\n",
      "|          Wandsworth|498636|[498636.0]|         0|\n",
      "|              Bexley|385668|[385668.0]|         1|\n",
      "|             Lambeth|519048|[519048.0]|         0|\n",
      "|Barking and Dagenham|311040|[311040.0]|         1|\n",
      "|              Camden|378432|[378432.0]|         1|\n",
      "|           Greenwich|421200|[421200.0]|         1|\n",
      "|              Newham|471420|[471420.0]|         0|\n",
      "|       Tower Hamlets|412128|[412128.0]|         1|\n",
      "|            Hounslow|395928|[395928.0]|         1|\n",
      "|              Barnet|572832|[572832.0]|         0|\n",
      "|              Harrow|365688|[365688.0]|         1|\n",
      "|Kensington and Ch...|296784|[296784.0]|         1|\n",
      "|           Islington|359208|[359208.0]|         1|\n",
      "|               Brent|490644|[490644.0]|         0|\n",
      "|            Haringey|413856|[413856.0]|         1|\n",
      "|             Bromley|523908|[523908.0]|         0|\n",
      "|              Merton|339876|[339876.0]|         1|\n",
      "|         Westminster|366660|[366660.0]|         1|\n",
      "|             Hackney|417744|[417744.0]|         1|\n",
      "|           Southwark|483300|[483300.0]|         0|\n",
      "|             Enfield|511164|[511164.0]|         0|\n",
      "|              Ealing|549396|[549396.0]|         0|\n",
      "|              Sutton|322488|[322488.0]|         1|\n",
      "|Hammersmith and F...|328752|[328752.0]|         1|\n",
      "|Kingston upon Thames|259524|[259524.0]|         1|\n",
      "|            Havering|399600|[399600.0]|         1|\n",
      "|          Hillingdon|442584|[442584.0]|         0|\n",
      "|      Waltham Forest|406296|[406296.0]|         1|\n",
      "|Richmond upon Thames|304128|[304128.0]|         1|\n",
      "|           Redbridge|445716|[445716.0]|         0|\n",
      "|      City of London|  9720|  [9720.0]|         2|\n",
      "|            Lewisham|485136|[485136.0]|         0|\n",
      "+--------------------+------+----------+----------+\n",
      "\n"
     ]
    }
   ],
   "source": [
    "predictions.show(50)"
   ]
  },
  {
   "cell_type": "markdown",
   "metadata": {},
   "source": [
    "### 5. Evaluate Clustering"
   ]
  },
  {
   "cell_type": "code",
   "execution_count": 17,
   "metadata": {},
   "outputs": [],
   "source": [
    "evaluator = ClusteringEvaluator()"
   ]
  },
  {
   "cell_type": "markdown",
   "metadata": {},
   "source": [
    "### 6. Silhouette"
   ]
  },
  {
   "cell_type": "code",
   "execution_count": 18,
   "metadata": {},
   "outputs": [
    {
     "name": "stdout",
     "output_type": "stream",
     "text": [
      "Silhouette with squared euclidean distance = 0.7721641041284032\n"
     ]
    }
   ],
   "source": [
    "silhouette = evaluator.evaluate(predictions)\n",
    "print(\"Silhouette with squared euclidean distance = \" + str(silhouette))"
   ]
  },
  {
   "cell_type": "markdown",
   "metadata": {},
   "source": [
    "# Visualization"
   ]
  },
  {
   "cell_type": "code",
   "execution_count": 19,
   "metadata": {},
   "outputs": [
    {
     "name": "stdout",
     "output_type": "stream",
     "text": [
      "Pixiedust database opened successfully\n",
      "Table VERSION_TRACKER created successfully\n",
      "Table METRICS_TRACKER created successfully\n",
      "\n",
      "Share anonymous install statistics? (opt-out instructions)\n",
      "\n",
      "PixieDust will record metadata on its environment the next time the package is installed or updated. The data is anonymized and aggregated to help plan for future releases, and records only the following values:\n",
      "\n",
      "{\n",
      "   \"data_sent\": currentDate,\n",
      "   \"runtime\": \"python\",\n",
      "   \"application_version\": currentPixiedustVersion,\n",
      "   \"space_id\": nonIdentifyingUniqueId,\n",
      "   \"config\": {\n",
      "       \"repository_id\": \"https://github.com/ibm-watson-data-lab/pixiedust\",\n",
      "       \"target_runtimes\": [\"Data Science Experience\"],\n",
      "       \"event_id\": \"web\",\n",
      "       \"event_organizer\": \"dev-journeys\"\n",
      "   }\n",
      "}\n",
      "You can opt out by calling pixiedust.optOut() in a new cell.\n"
     ]
    },
    {
     "data": {
      "text/html": [
       "\n",
       "        <div style=\"margin:10px\">\n",
       "            <a href=\"https://github.com/ibm-watson-data-lab/pixiedust\" target=\"_new\">\n",
       "                <img src=\"https://github.com/ibm-watson-data-lab/pixiedust/raw/master/docs/_static/pd_icon32.png\" style=\"float:left;margin-right:10px\"/>\n",
       "            </a>\n",
       "            <span>Pixiedust version 1.1.15</span>\n",
       "        </div>\n",
       "        "
      ],
      "text/plain": [
       "<IPython.core.display.HTML object>"
      ]
     },
     "metadata": {},
     "output_type": "display_data"
    },
    {
     "name": "stdout",
     "output_type": "stream",
     "text": [
      "\u001b[31mPixiedust runtime updated. Please restart kernel\u001b[0m\n",
      "Table SPARK_PACKAGES created successfully\n",
      "Table USER_PREFERENCES created successfully\n",
      "Table service_connections created successfully\n"
     ]
    }
   ],
   "source": [
    "import pixiedust"
   ]
  },
  {
   "cell_type": "code",
   "execution_count": 20,
   "metadata": {
    "pixiedust": {
     "displayParams": {
      "handlerId": "barChart",
      "keyFields": "prediction",
      "valueFields": "TOTAL"
     }
    }
   },
   "outputs": [
    {
     "data": {
      "text/html": [
       "<style type=\"text/css\">.pd_warning{display:none;}</style><div class=\"pd_warning\"><em>Hey, there's something awesome here! To see it, open this notebook outside GitHub, in a viewer like Jupyter</em></div>\n",
       "        <div class=\"pd_save is-viewer-good\" style=\"padding-right:10px;text-align: center;line-height:initial !important;font-size: xx-large;font-weight: 500;color: coral;\">\n",
       "            \n",
       "        </div>\n",
       "    <div class=\"pd_save is-viewer-good\" id=\"chartFigure41b9d515\" style=\"overflow-x:auto\">\n",
       "            \n",
       "                    \n",
       "                            <center><img class=\"pd_save\" style=\"max-width:initial !important\" src=\"data:image/png;base64,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\"></center>\n",
       "                        \n",
       "                    \n",
       "                \n",
       "        </div>"
      ],
      "text/plain": [
       "<IPython.core.display.HTML object>"
      ]
     },
     "metadata": {},
     "output_type": "display_data"
    }
   ],
   "source": [
    "display(predictions)"
   ]
  },
  {
   "cell_type": "markdown",
   "metadata": {},
   "source": [
    "![cluster](img/fix.PNG)"
   ]
  },
  {
   "cell_type": "markdown",
   "metadata": {},
   "source": [
    "![cluster](img/fix2.PNG)"
   ]
  }
 ],
 "metadata": {
  "kernelspec": {
   "display_name": "Python 3",
   "language": "python",
   "name": "python3"
  },
  "language_info": {
   "codemirror_mode": {
    "name": "ipython",
    "version": 3
   },
   "file_extension": ".py",
   "mimetype": "text/x-python",
   "name": "python",
   "nbconvert_exporter": "python",
   "pygments_lexer": "ipython3",
   "version": "3.6.8"
  }
 },
 "nbformat": 4,
 "nbformat_minor": 2
}
