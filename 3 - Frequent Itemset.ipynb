{
 "cells": [
  {
   "cell_type": "markdown",
   "metadata": {},
   "source": [
    "## Dataset\n",
    "https://www.kaggle.com/carrie1/ecommerce-data/home"
   ]
  },
  {
   "cell_type": "markdown",
   "metadata": {},
   "source": [
    "## Load Session"
   ]
  },
  {
   "cell_type": "code",
   "execution_count": 1,
   "metadata": {},
   "outputs": [],
   "source": [
    "import findspark\n",
    "findspark.init()"
   ]
  },
  {
   "cell_type": "code",
   "execution_count": 2,
   "metadata": {},
   "outputs": [],
   "source": [
    "from pyspark.sql import SparkSession"
   ]
  },
  {
   "cell_type": "code",
   "execution_count": 3,
   "metadata": {},
   "outputs": [],
   "source": [
    "spark = SparkSession.builder.appName(\"try fp-growth\").getOrCreate()"
   ]
  },
  {
   "cell_type": "code",
   "execution_count": 4,
   "metadata": {},
   "outputs": [
    {
     "name": "stdout",
     "output_type": "stream",
     "text": [
      "<pyspark.sql.session.SparkSession object at 0x000001F0BCD858D0>\n"
     ]
    }
   ],
   "source": [
    "print(spark)"
   ]
  },
  {
   "cell_type": "markdown",
   "metadata": {},
   "source": [
    "## Load Dataset"
   ]
  },
  {
   "cell_type": "code",
   "execution_count": 5,
   "metadata": {},
   "outputs": [],
   "source": [
    "df = spark.read.csv(\"F:/Wahyu Ivan Satyagraha/BigData/tugas frequent itemset/data.csv\", header=True, inferSchema=True)"
   ]
  },
  {
   "cell_type": "code",
   "execution_count": 6,
   "metadata": {},
   "outputs": [
    {
     "name": "stdout",
     "output_type": "stream",
     "text": [
      "+---------+---------+--------------------+--------+--------------+---------+----------+--------------+\n",
      "|InvoiceNo|StockCode|         Description|Quantity|   InvoiceDate|UnitPrice|CustomerID|       Country|\n",
      "+---------+---------+--------------------+--------+--------------+---------+----------+--------------+\n",
      "|   536365|   85123A|WHITE HANGING HEA...|       6|12/1/2010 8:26|     2.55|     17850|United Kingdom|\n",
      "|   536365|    71053| WHITE METAL LANTERN|       6|12/1/2010 8:26|     3.39|     17850|United Kingdom|\n",
      "|   536365|   84406B|CREAM CUPID HEART...|       8|12/1/2010 8:26|     2.75|     17850|United Kingdom|\n",
      "|   536365|   84029G|KNITTED UNION FLA...|       6|12/1/2010 8:26|     3.39|     17850|United Kingdom|\n",
      "|   536365|   84029E|RED WOOLLY HOTTIE...|       6|12/1/2010 8:26|     3.39|     17850|United Kingdom|\n",
      "|   536365|    22752|SET 7 BABUSHKA NE...|       2|12/1/2010 8:26|     7.65|     17850|United Kingdom|\n",
      "|   536365|    21730|GLASS STAR FROSTE...|       6|12/1/2010 8:26|     4.25|     17850|United Kingdom|\n",
      "|   536366|    22633|HAND WARMER UNION...|       6|12/1/2010 8:28|     1.85|     17850|United Kingdom|\n",
      "|   536366|    22632|HAND WARMER RED P...|       6|12/1/2010 8:28|     1.85|     17850|United Kingdom|\n",
      "|   536367|    84879|ASSORTED COLOUR B...|      32|12/1/2010 8:34|     1.69|     13047|United Kingdom|\n",
      "|   536367|    22745|POPPY'S PLAYHOUSE...|       6|12/1/2010 8:34|      2.1|     13047|United Kingdom|\n",
      "|   536367|    22748|POPPY'S PLAYHOUSE...|       6|12/1/2010 8:34|      2.1|     13047|United Kingdom|\n",
      "|   536367|    22749|FELTCRAFT PRINCES...|       8|12/1/2010 8:34|     3.75|     13047|United Kingdom|\n",
      "|   536367|    22310|IVORY KNITTED MUG...|       6|12/1/2010 8:34|     1.65|     13047|United Kingdom|\n",
      "|   536367|    84969|BOX OF 6 ASSORTED...|       6|12/1/2010 8:34|     4.25|     13047|United Kingdom|\n",
      "|   536367|    22623|BOX OF VINTAGE JI...|       3|12/1/2010 8:34|     4.95|     13047|United Kingdom|\n",
      "|   536367|    22622|BOX OF VINTAGE AL...|       2|12/1/2010 8:34|     9.95|     13047|United Kingdom|\n",
      "|   536367|    21754|HOME BUILDING BLO...|       3|12/1/2010 8:34|     5.95|     13047|United Kingdom|\n",
      "|   536367|    21755|LOVE BUILDING BLO...|       3|12/1/2010 8:34|     5.95|     13047|United Kingdom|\n",
      "|   536367|    21777|RECIPE BOX WITH M...|       4|12/1/2010 8:34|     7.95|     13047|United Kingdom|\n",
      "+---------+---------+--------------------+--------+--------------+---------+----------+--------------+\n",
      "only showing top 20 rows\n",
      "\n"
     ]
    }
   ],
   "source": [
    "df.show()"
   ]
  },
  {
   "cell_type": "code",
   "execution_count": 7,
   "metadata": {},
   "outputs": [],
   "source": [
    "#create backup for later purpose\n",
    "df_backup = df.selectExpr(['InvoiceNo as ID','StockCode as items', 'Description'])"
   ]
  },
  {
   "cell_type": "code",
   "execution_count": 8,
   "metadata": {},
   "outputs": [],
   "source": [
    "#select only 2 column\n",
    "df = df.selectExpr(['InvoiceNo as ID','StockCode as items'])"
   ]
  },
  {
   "cell_type": "code",
   "execution_count": 9,
   "metadata": {},
   "outputs": [
    {
     "name": "stdout",
     "output_type": "stream",
     "text": [
      "+------+------+\n",
      "|    ID| items|\n",
      "+------+------+\n",
      "|536365|85123A|\n",
      "|536365| 71053|\n",
      "|536365|84406B|\n",
      "|536365|84029G|\n",
      "|536365|84029E|\n",
      "|536365| 22752|\n",
      "|536365| 21730|\n",
      "|536366| 22633|\n",
      "|536366| 22632|\n",
      "|536367| 84879|\n",
      "|536367| 22745|\n",
      "|536367| 22748|\n",
      "|536367| 22749|\n",
      "|536367| 22310|\n",
      "|536367| 84969|\n",
      "|536367| 22623|\n",
      "|536367| 22622|\n",
      "|536367| 21754|\n",
      "|536367| 21755|\n",
      "|536367| 21777|\n",
      "+------+------+\n",
      "only showing top 20 rows\n",
      "\n"
     ]
    }
   ],
   "source": [
    "df.show()"
   ]
  },
  {
   "cell_type": "code",
   "execution_count": 10,
   "metadata": {},
   "outputs": [
    {
     "name": "stdout",
     "output_type": "stream",
     "text": [
      "root\n",
      " |-- ID: string (nullable = true)\n",
      " |-- items: string (nullable = true)\n",
      "\n"
     ]
    }
   ],
   "source": [
    "df.printSchema()"
   ]
  },
  {
   "cell_type": "code",
   "execution_count": 11,
   "metadata": {},
   "outputs": [],
   "source": [
    "from pyspark.sql.functions import collect_list"
   ]
  },
  {
   "cell_type": "code",
   "execution_count": 12,
   "metadata": {},
   "outputs": [],
   "source": [
    "#aggregate into 1 column\n",
    "df2 = df.groupby(\"ID\").agg(collect_list('items').alias('items'))"
   ]
  },
  {
   "cell_type": "code",
   "execution_count": 13,
   "metadata": {},
   "outputs": [
    {
     "name": "stdout",
     "output_type": "stream",
     "text": [
      "+------+--------------------+\n",
      "|    ID|               items|\n",
      "+------+--------------------+\n",
      "|536596|[21624, 22900, 22...|\n",
      "|536938|[22386, 85099C, 2...|\n",
      "|537252|             [22197]|\n",
      "|537691|[22791, 22171, 82...|\n",
      "|538041|             [22145]|\n",
      "|538184|[22585, 21481, 22...|\n",
      "|538517|[22491, 21232, 21...|\n",
      "|538879|[84819, 22150, 21...|\n",
      "|539275|[22909, 22423, 22...|\n",
      "|539630|[21484, 85099B, 2...|\n",
      "|540499|[21868, 22697, 22...|\n",
      "|540540|[21877, 21868, 21...|\n",
      "|540976|[22394, 21890, 22...|\n",
      "|541432|[21485, 22457, 84...|\n",
      "|541518|[21880, 21881, 21...|\n",
      "|541783|[22423, 22854, 22...|\n",
      "|542026|[21754, 82600, 22...|\n",
      "|542375|[21731, 22367, 22...|\n",
      "|543641|[85123A, 21833, 2...|\n",
      "|544303|[22660, 48138, 48...|\n",
      "+------+--------------------+\n",
      "only showing top 20 rows\n",
      "\n"
     ]
    }
   ],
   "source": [
    "df2.show()"
   ]
  },
  {
   "cell_type": "code",
   "execution_count": 14,
   "metadata": {},
   "outputs": [],
   "source": [
    "from pyspark.sql.types import ArrayType, StringType"
   ]
  },
  {
   "cell_type": "code",
   "execution_count": 15,
   "metadata": {},
   "outputs": [],
   "source": [
    "from pyspark.sql.functions import udf"
   ]
  },
  {
   "cell_type": "code",
   "execution_count": 16,
   "metadata": {},
   "outputs": [],
   "source": [
    "#remove a duplicate\n",
    "remove_duplicate = udf(lambda row: list(set(row)), ArrayType(StringType()))\n",
    "df2 = df2.withColumn(\"without_Duplicate\", remove_duplicate(\"items\"))"
   ]
  },
  {
   "cell_type": "code",
   "execution_count": 17,
   "metadata": {},
   "outputs": [
    {
     "name": "stdout",
     "output_type": "stream",
     "text": [
      "+------+--------------------+--------------------+\n",
      "|    ID|               items|   without_Duplicate|\n",
      "+------+--------------------+--------------------+\n",
      "|536596|[21624, 22900, 22...|[84926A, 21624, 2...|\n",
      "|536938|[22386, 85099C, 2...|[21479, 84997B, 2...|\n",
      "|537252|             [22197]|             [22197]|\n",
      "|537691|[22791, 22171, 82...|[20975, 22149, 21...|\n",
      "|538041|             [22145]|             [22145]|\n",
      "|538184|[22585, 21481, 22...|[22492, 22561, 48...|\n",
      "|538517|[22491, 21232, 21...|[22197, 22844, 22...|\n",
      "|538879|[84819, 22150, 21...|[22593, 22983, 22...|\n",
      "|539275|[22909, 22423, 22...|[22423, 21914, 22...|\n",
      "|539630|[21484, 85099B, 2...|[22988, 84347, 22...|\n",
      "|540499|[21868, 22697, 22...|[21755, 84978, 22...|\n",
      "|540540|[21877, 21868, 21...|[22555, 22551, 22...|\n",
      "|540976|[22394, 21890, 22...|[22207, 21110, 84...|\n",
      "|541432|[21485, 22457, 84...|[22113, 22457, 21...|\n",
      "|541518|[21880, 21881, 21...|[20724, 21982, 20...|\n",
      "|541783|[22423, 22854, 22...|[22197, 84978, 22...|\n",
      "|542026|[21754, 82600, 22...|[22197, 22398, 22...|\n",
      "|542375|[21731, 22367, 22...|[22367, 22629, 21...|\n",
      "|543641|[85123A, 21833, 2...|[22371, 44265, 21...|\n",
      "|544303|[22660, 48138, 48...|[20856, 22197, 20...|\n",
      "+------+--------------------+--------------------+\n",
      "only showing top 20 rows\n",
      "\n"
     ]
    }
   ],
   "source": [
    "df2.show()"
   ]
  },
  {
   "cell_type": "code",
   "execution_count": 18,
   "metadata": {},
   "outputs": [
    {
     "name": "stdout",
     "output_type": "stream",
     "text": [
      "root\n",
      " |-- ID: string (nullable = true)\n",
      " |-- items: array (nullable = true)\n",
      " |    |-- element: string (containsNull = true)\n",
      " |-- without_Duplicate: array (nullable = true)\n",
      " |    |-- element: string (containsNull = true)\n",
      "\n"
     ]
    }
   ],
   "source": [
    "df2.printSchema()"
   ]
  },
  {
   "cell_type": "code",
   "execution_count": 19,
   "metadata": {},
   "outputs": [],
   "source": [
    "df2=df2.selectExpr(['ID','without_Duplicate as items'])"
   ]
  },
  {
   "cell_type": "code",
   "execution_count": 20,
   "metadata": {},
   "outputs": [
    {
     "name": "stdout",
     "output_type": "stream",
     "text": [
      "+------+--------------------+\n",
      "|    ID|               items|\n",
      "+------+--------------------+\n",
      "|536596|[84926A, 21624, 2...|\n",
      "|536938|[21479, 84997B, 2...|\n",
      "|537252|             [22197]|\n",
      "|537691|[20975, 22149, 21...|\n",
      "|538041|             [22145]|\n",
      "|538184|[22492, 22561, 48...|\n",
      "|538517|[22197, 22844, 22...|\n",
      "|538879|[22593, 22983, 22...|\n",
      "|539275|[22423, 21914, 22...|\n",
      "|539630|[22988, 84347, 22...|\n",
      "|540499|[21755, 84978, 22...|\n",
      "|540540|[22555, 22551, 22...|\n",
      "|540976|[22207, 21110, 84...|\n",
      "|541432|[22113, 22457, 21...|\n",
      "|541518|[20724, 21982, 20...|\n",
      "|541783|[22197, 84978, 22...|\n",
      "|542026|[22197, 22398, 22...|\n",
      "|542375|[22367, 22629, 21...|\n",
      "|543641|[22371, 44265, 21...|\n",
      "|544303|[20856, 22197, 20...|\n",
      "+------+--------------------+\n",
      "only showing top 20 rows\n",
      "\n"
     ]
    }
   ],
   "source": [
    "df2.show()"
   ]
  },
  {
   "cell_type": "markdown",
   "metadata": {},
   "source": [
    "## FP - Growth"
   ]
  },
  {
   "cell_type": "code",
   "execution_count": 21,
   "metadata": {},
   "outputs": [],
   "source": [
    "from pyspark.ml.fpm import FPGrowth"
   ]
  },
  {
   "cell_type": "code",
   "execution_count": 22,
   "metadata": {},
   "outputs": [],
   "source": [
    "#first model\n",
    "fpGrowth = FPGrowth(itemsCol=\"items\", minSupport=0.05, minConfidence=0.6)\n",
    "model = fpGrowth.fit(df2)"
   ]
  },
  {
   "cell_type": "code",
   "execution_count": 23,
   "metadata": {},
   "outputs": [
    {
     "name": "stdout",
     "output_type": "stream",
     "text": [
      "+--------+----+\n",
      "|   items|freq|\n",
      "+--------+----+\n",
      "|[85123A]|2246|\n",
      "| [22423]|2172|\n",
      "|[85099B]|2135|\n",
      "| [47566]|1706|\n",
      "| [20725]|1608|\n",
      "| [84879]|1468|\n",
      "| [22720]|1462|\n",
      "| [22197]|1442|\n",
      "| [21212]|1334|\n",
      "| [22383]|1306|\n",
      "| [20727]|1295|\n",
      "+--------+----+\n",
      "\n"
     ]
    }
   ],
   "source": [
    "model.freqItemsets.show()"
   ]
  },
  {
   "cell_type": "code",
   "execution_count": 24,
   "metadata": {},
   "outputs": [
    {
     "name": "stdout",
     "output_type": "stream",
     "text": [
      "+----------+----------+----------+\n",
      "|antecedent|consequent|confidence|\n",
      "+----------+----------+----------+\n",
      "+----------+----------+----------+\n",
      "\n"
     ]
    }
   ],
   "source": [
    "model.associationRules.show()"
   ]
  },
  {
   "cell_type": "code",
   "execution_count": 25,
   "metadata": {},
   "outputs": [
    {
     "name": "stdout",
     "output_type": "stream",
     "text": [
      "+------+--------------------+----------+\n",
      "|    ID|               items|prediction|\n",
      "+------+--------------------+----------+\n",
      "|536596|[84926A, 21624, 2...|        []|\n",
      "|536938|[21479, 84997B, 2...|        []|\n",
      "|537252|             [22197]|        []|\n",
      "|537691|[20975, 22149, 21...|        []|\n",
      "|538041|             [22145]|        []|\n",
      "|538184|[22492, 22561, 48...|        []|\n",
      "|538517|[22197, 22844, 22...|        []|\n",
      "|538879|[22593, 22983, 22...|        []|\n",
      "|539275|[22423, 21914, 22...|        []|\n",
      "|539630|[22988, 84347, 22...|        []|\n",
      "|540499|[21755, 84978, 22...|        []|\n",
      "|540540|[22555, 22551, 22...|        []|\n",
      "|540976|[22207, 21110, 84...|        []|\n",
      "|541432|[22113, 22457, 21...|        []|\n",
      "|541518|[20724, 21982, 20...|        []|\n",
      "|541783|[22197, 84978, 22...|        []|\n",
      "|542026|[22197, 22398, 22...|        []|\n",
      "|542375|[22367, 22629, 21...|        []|\n",
      "|543641|[22371, 44265, 21...|        []|\n",
      "|544303|[20856, 22197, 20...|        []|\n",
      "+------+--------------------+----------+\n",
      "only showing top 20 rows\n",
      "\n"
     ]
    }
   ],
   "source": [
    "model.transform(df2).show()"
   ]
  },
  {
   "cell_type": "code",
   "execution_count": 26,
   "metadata": {},
   "outputs": [],
   "source": [
    "#second model\n",
    "fpGrowth = FPGrowth(itemsCol=\"items\", minSupport=0.03, minConfidence=0.7)\n",
    "model2 = fpGrowth.fit(df2)"
   ]
  },
  {
   "cell_type": "code",
   "execution_count": 27,
   "metadata": {},
   "outputs": [
    {
     "name": "stdout",
     "output_type": "stream",
     "text": [
      "+---------------+----+\n",
      "|          items|freq|\n",
      "+---------------+----+\n",
      "|       [85123A]|2246|\n",
      "|        [22423]|2172|\n",
      "|       [85099B]|2135|\n",
      "|        [47566]|1706|\n",
      "|        [20725]|1608|\n",
      "|        [84879]|1468|\n",
      "|        [22720]|1462|\n",
      "|        [22197]|1442|\n",
      "|        [21212]|1334|\n",
      "|        [22383]|1306|\n",
      "|        [20727]|1295|\n",
      "|        [22457]|1266|\n",
      "|         [POST]|1254|\n",
      "|        [23203]|1249|\n",
      "|        [22386]|1231|\n",
      "|[22386, 85099B]| 833|\n",
      "|        [22960]|1220|\n",
      "|        [22469]|1214|\n",
      "|        [21931]|1201|\n",
      "|        [22411]|1187|\n",
      "+---------------+----+\n",
      "only showing top 20 rows\n",
      "\n"
     ]
    }
   ],
   "source": [
    "model2.freqItemsets.show()"
   ]
  },
  {
   "cell_type": "code",
   "execution_count": 28,
   "metadata": {},
   "outputs": [
    {
     "name": "stdout",
     "output_type": "stream",
     "text": [
      "+----------+----------+------------------+\n",
      "|antecedent|consequent|        confidence|\n",
      "+----------+----------+------------------+\n",
      "|   [22699]|   [22697]|               0.7|\n",
      "|   [22697]|   [22699]|0.7417218543046358|\n",
      "+----------+----------+------------------+\n",
      "\n"
     ]
    }
   ],
   "source": [
    "model2.associationRules.show()"
   ]
  },
  {
   "cell_type": "code",
   "execution_count": 29,
   "metadata": {},
   "outputs": [
    {
     "name": "stdout",
     "output_type": "stream",
     "text": [
      "+------+--------------------+----------+\n",
      "|    ID|               items|prediction|\n",
      "+------+--------------------+----------+\n",
      "|536596|[84926A, 21624, 2...|        []|\n",
      "|536938|[21479, 84997B, 2...|        []|\n",
      "|537252|             [22197]|        []|\n",
      "|537691|[20975, 22149, 21...|        []|\n",
      "|538041|             [22145]|        []|\n",
      "|538184|[22492, 22561, 48...|        []|\n",
      "|538517|[22197, 22844, 22...|        []|\n",
      "|538879|[22593, 22983, 22...|        []|\n",
      "|539275|[22423, 21914, 22...|        []|\n",
      "|539630|[22988, 84347, 22...|        []|\n",
      "|540499|[21755, 84978, 22...|        []|\n",
      "|540540|[22555, 22551, 22...|        []|\n",
      "|540976|[22207, 21110, 84...|        []|\n",
      "|541432|[22113, 22457, 21...|        []|\n",
      "|541518|[20724, 21982, 20...|        []|\n",
      "|541783|[22197, 84978, 22...|        []|\n",
      "|542026|[22197, 22398, 22...|        []|\n",
      "|542375|[22367, 22629, 21...|        []|\n",
      "|543641|[22371, 44265, 21...|        []|\n",
      "|544303|[20856, 22197, 20...|        []|\n",
      "+------+--------------------+----------+\n",
      "only showing top 20 rows\n",
      "\n"
     ]
    }
   ],
   "source": [
    "model2.transform(df2).show()"
   ]
  },
  {
   "cell_type": "code",
   "execution_count": 30,
   "metadata": {},
   "outputs": [],
   "source": [
    "#third model\n",
    "fpGrowth = FPGrowth(itemsCol=\"items\", minSupport=0.01, minConfidence=0.6)\n",
    "model3 = fpGrowth.fit(df2)"
   ]
  },
  {
   "cell_type": "code",
   "execution_count": 31,
   "metadata": {},
   "outputs": [
    {
     "name": "stdout",
     "output_type": "stream",
     "text": [
      "+----------------+----+\n",
      "|           items|freq|\n",
      "+----------------+----+\n",
      "|         [22633]| 487|\n",
      "|         [23236]| 344|\n",
      "|        [85123A]|2246|\n",
      "|         [22423]|2172|\n",
      "| [22423, 85123A]| 355|\n",
      "|         [22667]| 486|\n",
      "|         [22579]| 343|\n",
      "|  [22579, 22578]| 282|\n",
      "|        [85099B]|2135|\n",
      "| [85099B, 22423]| 288|\n",
      "|[85099B, 85123A]| 404|\n",
      "|         [22620]| 486|\n",
      "|        [84536A]| 342|\n",
      "|         [71053]| 342|\n",
      "|         [47566]|1706|\n",
      "| [47566, 85099B]| 332|\n",
      "|  [47566, 22423]| 398|\n",
      "| [47566, 85123A]| 391|\n",
      "|         [85150]| 483|\n",
      "|         [20725]|1608|\n",
      "+----------------+----+\n",
      "only showing top 20 rows\n",
      "\n"
     ]
    }
   ],
   "source": [
    "model3.freqItemsets.show()"
   ]
  },
  {
   "cell_type": "code",
   "execution_count": 32,
   "metadata": {},
   "outputs": [
    {
     "name": "stdout",
     "output_type": "stream",
     "text": [
      "+--------------------+----------+------------------+\n",
      "|          antecedent|consequent|        confidence|\n",
      "+--------------------+----------+------------------+\n",
      "|      [20726, 22382]|   [20725]|0.6356107660455487|\n",
      "|             [22699]|   [22697]|               0.7|\n",
      "|      [20723, 22355]|   [20724]|0.8038277511961722|\n",
      "|      [20723, 22355]|   [20719]|0.7272727272727273|\n",
      "|      [20723, 22355]|   [22356]|  0.65311004784689|\n",
      "|             [22866]|   [22865]| 0.600358422939068|\n",
      "|             [20723]|   [20724]| 0.667574931880109|\n",
      "|      [22356, 20719]|   [22355]|0.7405541561712846|\n",
      "|      [22356, 20719]|   [20724]|0.8211586901763224|\n",
      "|      [22356, 20719]|   [20723]|0.6649874055415617|\n",
      "|        [DOT, 22411]|  [85099B]|0.7713498622589532|\n",
      "|             [22746]|   [22748]| 0.796969696969697|\n",
      "|             [22746]|   [22745]| 0.793939393939394|\n",
      "|      [20726, 22384]|   [20725]| 0.713216957605985|\n",
      "|             [22386]|  [85099B]|0.6766856214459789|\n",
      "|[21931, 22386, 85...|   [22411]|0.6466346153846154|\n",
      "|      [22382, 20727]|   [20725]|0.6198830409356725|\n",
      "|      [22382, 20727]|   [22383]|0.6101364522417154|\n",
      "|      [20712, 22411]|   [21931]|0.7051282051282052|\n",
      "|      [20712, 22411]|  [85099B]|0.7615384615384615|\n",
      "+--------------------+----------+------------------+\n",
      "only showing top 20 rows\n",
      "\n"
     ]
    }
   ],
   "source": [
    "model3.associationRules.show()"
   ]
  },
  {
   "cell_type": "code",
   "execution_count": 33,
   "metadata": {},
   "outputs": [
    {
     "name": "stdout",
     "output_type": "stream",
     "text": [
      "+------+--------------------+--------------------+\n",
      "|    ID|               items|          prediction|\n",
      "+------+--------------------+--------------------+\n",
      "|536596|[84926A, 21624, 2...|                  []|\n",
      "|536938|[21479, 84997B, 2...|[85099B, 22355, 2...|\n",
      "|537252|             [22197]|                  []|\n",
      "|537691|[20975, 22149, 21...|                  []|\n",
      "|538041|             [22145]|                  []|\n",
      "|538184|[22492, 22561, 48...|                  []|\n",
      "|538517|[22197, 22844, 22...|                  []|\n",
      "|538879|[22593, 22983, 22...|                  []|\n",
      "|539275|[22423, 21914, 22...|                  []|\n",
      "|539630|[22988, 84347, 22...|                  []|\n",
      "|540499|[21755, 84978, 22...|      [22698, 20724]|\n",
      "|540540|[22555, 22551, 22...|                  []|\n",
      "|540976|[22207, 21110, 84...|[22355, 22356, 20...|\n",
      "|541432|[22113, 22457, 21...|                  []|\n",
      "|541518|[20724, 21982, 20...|[21931, 22386, 20...|\n",
      "|541783|[22197, 84978, 22...|             [22698]|\n",
      "|542026|[22197, 22398, 22...|                  []|\n",
      "|542375|[22367, 22629, 21...|                  []|\n",
      "|543641|[22371, 44265, 21...|                  []|\n",
      "|544303|[20856, 22197, 20...|                  []|\n",
      "+------+--------------------+--------------------+\n",
      "only showing top 20 rows\n",
      "\n"
     ]
    }
   ],
   "source": [
    "model3.transform(df2).show()"
   ]
  },
  {
   "cell_type": "code",
   "execution_count": 40,
   "metadata": {},
   "outputs": [],
   "source": [
    "#select the items we want to see\n",
    "df_final2=spark.createDataFrame([('0',['22698'])],['ID','items'])"
   ]
  },
  {
   "cell_type": "code",
   "execution_count": 41,
   "metadata": {},
   "outputs": [
    {
     "name": "stdout",
     "output_type": "stream",
     "text": [
      "+---+-------+\n",
      "| ID|  items|\n",
      "+---+-------+\n",
      "|  0|[22698]|\n",
      "+---+-------+\n",
      "\n"
     ]
    }
   ],
   "source": [
    "df_final2.show()"
   ]
  },
  {
   "cell_type": "code",
   "execution_count": 42,
   "metadata": {},
   "outputs": [
    {
     "name": "stdout",
     "output_type": "stream",
     "text": [
      "+---+-------+--------------+\n",
      "| ID|  items|    prediction|\n",
      "+---+-------+--------------+\n",
      "|  0|[22698]|[22697, 22699]|\n",
      "+---+-------+--------------+\n",
      "\n"
     ]
    }
   ],
   "source": [
    "model3.transform(df_final2).show()"
   ]
  },
  {
   "cell_type": "code",
   "execution_count": 44,
   "metadata": {},
   "outputs": [],
   "source": [
    "#do a SQL query to get the description of the items\n",
    "df_backup.createOrReplaceTempView(\"Final\")"
   ]
  },
  {
   "cell_type": "code",
   "execution_count": 47,
   "metadata": {},
   "outputs": [],
   "source": [
    "final=spark.sql(\"SELECT DISTINCT Description FROM Final WHERE items = '22698'\")"
   ]
  },
  {
   "cell_type": "code",
   "execution_count": 48,
   "metadata": {},
   "outputs": [
    {
     "name": "stdout",
     "output_type": "stream",
     "text": [
      "+--------------------+\n",
      "|         Description|\n",
      "+--------------------+\n",
      "|                null|\n",
      "|PINK REGENCY TEAC...|\n",
      "+--------------------+\n",
      "\n"
     ]
    }
   ],
   "source": [
    "final.show()"
   ]
  },
  {
   "cell_type": "code",
   "execution_count": 49,
   "metadata": {},
   "outputs": [],
   "source": [
    "final2=spark.sql(\"SELECT DISTINCT Description FROM Final WHERE items = '22697'\")"
   ]
  },
  {
   "cell_type": "code",
   "execution_count": 50,
   "metadata": {},
   "outputs": [
    {
     "name": "stdout",
     "output_type": "stream",
     "text": [
      "+--------------------+\n",
      "|         Description|\n",
      "+--------------------+\n",
      "|GREEN REGENCY TEA...|\n",
      "+--------------------+\n",
      "\n"
     ]
    }
   ],
   "source": [
    "final2.show()"
   ]
  },
  {
   "cell_type": "code",
   "execution_count": 51,
   "metadata": {},
   "outputs": [],
   "source": [
    "final3=spark.sql(\"SELECT DISTINCT Description FROM Final WHERE items = '22699'\")"
   ]
  },
  {
   "cell_type": "code",
   "execution_count": 52,
   "metadata": {},
   "outputs": [
    {
     "name": "stdout",
     "output_type": "stream",
     "text": [
      "+--------------------+\n",
      "|         Description|\n",
      "+--------------------+\n",
      "|ROSES REGENCY TEA...|\n",
      "+--------------------+\n",
      "\n"
     ]
    }
   ],
   "source": [
    "final3.show()"
   ]
  },
  {
   "cell_type": "markdown",
   "metadata": {},
   "source": [
    "## Conclusion\n",
    "from the transaction above, we can take a conclusion that if a customer buy a pink regency teacup and saucer, then she/he is likely to buy the same one but in different colour (green and roses)"
   ]
  }
 ],
 "metadata": {
  "kernelspec": {
   "display_name": "Python 3",
   "language": "python",
   "name": "python3"
  },
  "language_info": {
   "codemirror_mode": {
    "name": "ipython",
    "version": 3
   },
   "file_extension": ".py",
   "mimetype": "text/x-python",
   "name": "python",
   "nbconvert_exporter": "python",
   "pygments_lexer": "ipython3",
   "version": "3.6.8"
  }
 },
 "nbformat": 4,
 "nbformat_minor": 2
}
