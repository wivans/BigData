{
 "cells": [
  {
   "cell_type": "markdown",
   "metadata": {},
   "source": [
    "## Requirements\n",
    "1. Apache Spark binary (https://spark.apache.org/)\n",
    "2. For Windows: winutils (https://medium.com/@dvainrub/how-to-install-apache-spark-2-x-in-your-pc-e2047246ffc3)\n",
    "3. Setting ```JAVA_HOME```, ```SPARK_HOME```, and ```HADOOP_HOME```\n",
    "4. Python 3.x (from Anaconda distribution)\n",
    "5. ```findspark``` https://pypi.org/project/findspark/\n",
    "6. Jupyter Notebook (available from Anaconda installation)\n",
    "\n",
    "### References\n",
    "https://spark.apache.org/docs/2.3.3/sql-programming-guide.html"
   ]
  },
  {
   "cell_type": "markdown",
   "metadata": {},
   "source": [
    "## Spark Initialization"
   ]
  },
  {
   "cell_type": "code",
   "execution_count": 1,
   "metadata": {},
   "outputs": [],
   "source": [
    "# Import findspark to read SPARK_HOME and HADOOP_HOME\n",
    "import findspark\n",
    "findspark.init()"
   ]
  },
  {
   "cell_type": "code",
   "execution_count": 2,
   "metadata": {},
   "outputs": [],
   "source": [
    "# Import required library\n",
    "from pyspark.sql import SparkSession\n",
    "\n",
    "# Create Spark Session\n",
    "spark = SparkSession \\\n",
    "    .builder \\\n",
    "    .appName(\"Python Spark SQL basic example\") \\\n",
    "    .getOrCreate()"
   ]
  },
  {
   "cell_type": "code",
   "execution_count": 3,
   "metadata": {},
   "outputs": [
    {
     "name": "stdout",
     "output_type": "stream",
     "text": [
      "<pyspark.sql.session.SparkSession object at 0x000002A654FBEAC8>\n"
     ]
    }
   ],
   "source": [
    "# Print Spark object ID\n",
    "print(spark)"
   ]
  },
  {
   "cell_type": "markdown",
   "metadata": {},
   "source": [
    "## Loading Data using Spark"
   ]
  },
  {
   "cell_type": "code",
   "execution_count": 4,
   "metadata": {},
   "outputs": [],
   "source": [
    "df = spark.read.csv(\"F:/big-data-master/notebook/london_crime_by_lsoa.csv\", header=True, inferSchema=True)"
   ]
  },
  {
   "cell_type": "code",
   "execution_count": 5,
   "metadata": {
    "scrolled": true
   },
   "outputs": [
    {
     "name": "stdout",
     "output_type": "stream",
     "text": [
      "+---------+--------------------+--------------------+--------------------+-----+----+-----+\n",
      "|lsoa_code|             borough|      major_category|      minor_category|value|year|month|\n",
      "+---------+--------------------+--------------------+--------------------+-----+----+-----+\n",
      "|E01001116|             Croydon|            Burglary|Burglary in Other...|    0|2016|   11|\n",
      "|E01001646|           Greenwich|Violence Against ...|      Other violence|    0|2016|   11|\n",
      "|E01000677|             Bromley|Violence Against ...|      Other violence|    0|2015|    5|\n",
      "|E01003774|           Redbridge|            Burglary|Burglary in Other...|    0|2016|    3|\n",
      "|E01004563|          Wandsworth|             Robbery|   Personal Property|    0|2008|    6|\n",
      "|E01001320|              Ealing|  Theft and Handling|         Other Theft|    0|2012|    5|\n",
      "|E01001342|              Ealing|Violence Against ...|    Offensive Weapon|    0|2010|    7|\n",
      "|E01002633|            Hounslow|             Robbery|   Personal Property|    0|2013|    4|\n",
      "|E01003496|              Newham|     Criminal Damage|Criminal Damage T...|    0|2013|    9|\n",
      "|E01004177|              Sutton|  Theft and Handling|Theft/Taking of P...|    1|2016|    8|\n",
      "|E01001985|            Haringey|  Theft and Handling|Motor Vehicle Int...|    0|2013|   12|\n",
      "|E01003076|             Lambeth|Violence Against ...|      Other violence|    0|2015|    4|\n",
      "|E01003852|Richmond upon Thames|             Robbery|   Personal Property|    0|2014|    1|\n",
      "|E01004547|          Wandsworth|Violence Against ...|    Offensive Weapon|    0|2011|   10|\n",
      "|E01002398|          Hillingdon|  Theft and Handling|Theft/Taking Of M...|    0|2016|    2|\n",
      "|E01002358|            Havering|Violence Against ...|        Wounding/GBH|    0|2012|    2|\n",
      "|E01000086|Barking and Dagenham|  Theft and Handling|  Other Theft Person|    1|2009|    5|\n",
      "|E01003708|           Redbridge|Violence Against ...|      Common Assault|    0|2009|    6|\n",
      "|E01002945|Kingston upon Thames|  Theft and Handling|    Theft From Shops|    0|2016|   11|\n",
      "|E01004195|              Sutton|               Drugs| Possession Of Drugs|    0|2009|   10|\n",
      "+---------+--------------------+--------------------+--------------------+-----+----+-----+\n",
      "only showing top 20 rows\n",
      "\n"
     ]
    }
   ],
   "source": [
    "df.show()"
   ]
  },
  {
   "cell_type": "code",
   "execution_count": 6,
   "metadata": {},
   "outputs": [
    {
     "data": {
      "text/plain": [
       "13490604"
      ]
     },
     "execution_count": 6,
     "metadata": {},
     "output_type": "execute_result"
    }
   ],
   "source": [
    "df.count()"
   ]
  },
  {
   "cell_type": "code",
   "execution_count": 9,
   "metadata": {
    "scrolled": true
   },
   "outputs": [],
   "source": [
    "df2 = spark.read.csv(\"F:/dataset/london/london_crime_by_lsoa.csv\", header=True, inferSchema=True)"
   ]
  },
  {
   "cell_type": "code",
   "execution_count": 10,
   "metadata": {
    "scrolled": true
   },
   "outputs": [
    {
     "name": "stdout",
     "output_type": "stream",
     "text": [
      "+---------+--------------------+--------------------+--------------------+-----+----+-----+\n",
      "|lsoa_code|             borough|      major_category|      minor_category|value|year|month|\n",
      "+---------+--------------------+--------------------+--------------------+-----+----+-----+\n",
      "|E01001116|             Croydon|            Burglary|Burglary in Other...|    0|2016|   11|\n",
      "|E01001646|           Greenwich|Violence Against ...|      Other violence|    0|2016|   11|\n",
      "|E01000677|             Bromley|Violence Against ...|      Other violence|    0|2015|    5|\n",
      "|E01003774|           Redbridge|            Burglary|Burglary in Other...|    0|2016|    3|\n",
      "|E01004563|          Wandsworth|             Robbery|   Personal Property|    0|2008|    6|\n",
      "|E01001320|              Ealing|  Theft and Handling|         Other Theft|    0|2012|    5|\n",
      "|E01001342|              Ealing|Violence Against ...|    Offensive Weapon|    0|2010|    7|\n",
      "|E01002633|            Hounslow|             Robbery|   Personal Property|    0|2013|    4|\n",
      "|E01003496|              Newham|     Criminal Damage|Criminal Damage T...|    0|2013|    9|\n",
      "|E01004177|              Sutton|  Theft and Handling|Theft/Taking of P...|    1|2016|    8|\n",
      "|E01001985|            Haringey|  Theft and Handling|Motor Vehicle Int...|    0|2013|   12|\n",
      "|E01003076|             Lambeth|Violence Against ...|      Other violence|    0|2015|    4|\n",
      "|E01003852|Richmond upon Thames|             Robbery|   Personal Property|    0|2014|    1|\n",
      "|E01004547|          Wandsworth|Violence Against ...|    Offensive Weapon|    0|2011|   10|\n",
      "|E01002398|          Hillingdon|  Theft and Handling|Theft/Taking Of M...|    0|2016|    2|\n",
      "|E01002358|            Havering|Violence Against ...|        Wounding/GBH|    0|2012|    2|\n",
      "|E01000086|Barking and Dagenham|  Theft and Handling|  Other Theft Person|    1|2009|    5|\n",
      "|E01003708|           Redbridge|Violence Against ...|      Common Assault|    0|2009|    6|\n",
      "|E01002945|Kingston upon Thames|  Theft and Handling|    Theft From Shops|    0|2016|   11|\n",
      "|E01004195|              Sutton|               Drugs| Possession Of Drugs|    0|2009|   10|\n",
      "+---------+--------------------+--------------------+--------------------+-----+----+-----+\n",
      "only showing top 20 rows\n",
      "\n"
     ]
    }
   ],
   "source": [
    "df2.show()"
   ]
  },
  {
   "cell_type": "code",
   "execution_count": 11,
   "metadata": {
    "scrolled": true
   },
   "outputs": [
    {
     "data": {
      "text/plain": [
       "StructType(List(StructField(lsoa_code,StringType,true),StructField(borough,StringType,true),StructField(major_category,StringType,true),StructField(minor_category,StringType,true),StructField(value,IntegerType,true),StructField(year,IntegerType,true),StructField(month,IntegerType,true)))"
      ]
     },
     "execution_count": 11,
     "metadata": {},
     "output_type": "execute_result"
    }
   ],
   "source": [
    "df2.schema"
   ]
  },
  {
   "cell_type": "code",
   "execution_count": 12,
   "metadata": {},
   "outputs": [],
   "source": [
    "\n",
    "df3 = spark.read.csv(\"F:/dataset/london/london_crime_by_lsoa.csv\", header=True, inferSchema=True)"
   ]
  },
  {
   "cell_type": "code",
   "execution_count": 13,
   "metadata": {
    "scrolled": false
   },
   "outputs": [
    {
     "data": {
      "text/plain": [
       "13490604"
      ]
     },
     "execution_count": 13,
     "metadata": {},
     "output_type": "execute_result"
    }
   ],
   "source": [
    "df3.count()"
   ]
  },
  {
   "cell_type": "code",
   "execution_count": 14,
   "metadata": {},
   "outputs": [
    {
     "name": "stdout",
     "output_type": "stream",
     "text": [
      "+---------+--------------------+--------------------+--------------------+-----+----+-----+\n",
      "|lsoa_code|             borough|      major_category|      minor_category|value|year|month|\n",
      "+---------+--------------------+--------------------+--------------------+-----+----+-----+\n",
      "|E01001116|             Croydon|            Burglary|Burglary in Other...|    0|2016|   11|\n",
      "|E01001646|           Greenwich|Violence Against ...|      Other violence|    0|2016|   11|\n",
      "|E01000677|             Bromley|Violence Against ...|      Other violence|    0|2015|    5|\n",
      "|E01003774|           Redbridge|            Burglary|Burglary in Other...|    0|2016|    3|\n",
      "|E01004563|          Wandsworth|             Robbery|   Personal Property|    0|2008|    6|\n",
      "|E01001320|              Ealing|  Theft and Handling|         Other Theft|    0|2012|    5|\n",
      "|E01001342|              Ealing|Violence Against ...|    Offensive Weapon|    0|2010|    7|\n",
      "|E01002633|            Hounslow|             Robbery|   Personal Property|    0|2013|    4|\n",
      "|E01003496|              Newham|     Criminal Damage|Criminal Damage T...|    0|2013|    9|\n",
      "|E01004177|              Sutton|  Theft and Handling|Theft/Taking of P...|    1|2016|    8|\n",
      "|E01001985|            Haringey|  Theft and Handling|Motor Vehicle Int...|    0|2013|   12|\n",
      "|E01003076|             Lambeth|Violence Against ...|      Other violence|    0|2015|    4|\n",
      "|E01003852|Richmond upon Thames|             Robbery|   Personal Property|    0|2014|    1|\n",
      "|E01004547|          Wandsworth|Violence Against ...|    Offensive Weapon|    0|2011|   10|\n",
      "|E01002398|          Hillingdon|  Theft and Handling|Theft/Taking Of M...|    0|2016|    2|\n",
      "|E01002358|            Havering|Violence Against ...|        Wounding/GBH|    0|2012|    2|\n",
      "|E01000086|Barking and Dagenham|  Theft and Handling|  Other Theft Person|    1|2009|    5|\n",
      "|E01003708|           Redbridge|Violence Against ...|      Common Assault|    0|2009|    6|\n",
      "|E01002945|Kingston upon Thames|  Theft and Handling|    Theft From Shops|    0|2016|   11|\n",
      "|E01004195|              Sutton|               Drugs| Possession Of Drugs|    0|2009|   10|\n",
      "+---------+--------------------+--------------------+--------------------+-----+----+-----+\n",
      "only showing top 20 rows\n",
      "\n"
     ]
    }
   ],
   "source": [
    "df3.show()"
   ]
  },
  {
   "cell_type": "code",
   "execution_count": 15,
   "metadata": {},
   "outputs": [
    {
     "data": {
      "text/plain": [
       "StructType(List(StructField(lsoa_code,StringType,true),StructField(borough,StringType,true),StructField(major_category,StringType,true),StructField(minor_category,StringType,true),StructField(value,IntegerType,true),StructField(year,IntegerType,true),StructField(month,IntegerType,true)))"
      ]
     },
     "execution_count": 15,
     "metadata": {},
     "output_type": "execute_result"
    }
   ],
   "source": [
    "df3.schema"
   ]
  },
  {
   "cell_type": "code",
   "execution_count": 17,
   "metadata": {},
   "outputs": [],
   "source": [
    "# Register the DataFrame as a SQL temporary view\n",
    "df3.createOrReplaceTempView(\"londoncrimes\")"
   ]
  },
  {
   "cell_type": "code",
   "execution_count": 18,
   "metadata": {},
   "outputs": [],
   "source": [
    "result = spark.sql(\"SELECT DISTINCT major_category FROM londoncrimes\")"
   ]
  },
  {
   "cell_type": "code",
   "execution_count": 19,
   "metadata": {
    "collapsed": true
   },
   "outputs": [
    {
     "name": "stdout",
     "output_type": "stream",
     "text": [
      "+--------------------+\n",
      "|      major_category|\n",
      "+--------------------+\n",
      "|               Drugs|\n",
      "|             Robbery|\n",
      "|  Theft and Handling|\n",
      "|    Fraud or Forgery|\n",
      "|Violence Against ...|\n",
      "|            Burglary|\n",
      "|Other Notifiable ...|\n",
      "|     Sexual Offences|\n",
      "|     Criminal Damage|\n",
      "+--------------------+\n",
      "\n"
     ]
    }
   ],
   "source": [
    "result.show()"
   ]
  },
  {
   "cell_type": "markdown",
   "metadata": {},
   "source": [
    "## Data Mining Process"
   ]
  },
  {
   "cell_type": "code",
   "execution_count": 25,
   "metadata": {},
   "outputs": [],
   "source": [
    "# Data lokasi terjadi nya kejahatan pencurian pada tahun 2016\n",
    "query1 = spark.sql(\"SELECT DISTINCT borough from londoncrimes where major_category='Robbery'and year=2016 \")"
   ]
  },
  {
   "cell_type": "code",
   "execution_count": 26,
   "metadata": {},
   "outputs": [
    {
     "name": "stdout",
     "output_type": "stream",
     "text": [
      "+--------------------+\n",
      "|             borough|\n",
      "+--------------------+\n",
      "|             Croydon|\n",
      "|          Wandsworth|\n",
      "|              Bexley|\n",
      "|             Lambeth|\n",
      "|Barking and Dagenham|\n",
      "|              Camden|\n",
      "|           Greenwich|\n",
      "|              Newham|\n",
      "|       Tower Hamlets|\n",
      "|            Hounslow|\n",
      "|              Barnet|\n",
      "|              Harrow|\n",
      "|Kensington and Ch...|\n",
      "|           Islington|\n",
      "|               Brent|\n",
      "|            Haringey|\n",
      "|             Bromley|\n",
      "|              Merton|\n",
      "|         Westminster|\n",
      "|             Hackney|\n",
      "+--------------------+\n",
      "only showing top 20 rows\n",
      "\n"
     ]
    }
   ],
   "source": [
    "query1.show()"
   ]
  },
  {
   "cell_type": "code",
   "execution_count": 45,
   "metadata": {},
   "outputs": [],
   "source": [
    "# jenis kejahatan yang terjadi selama bulan puasa pada tahun 2016\n",
    "# bulan puasa pada tahun 2016 jatuh pada bulan ke 6\n",
    "\n",
    "query2 = spark.sql(\"SELECT DISTINCT major_category, minor_category from londoncrimes where year=2016 and month=6\")"
   ]
  },
  {
   "cell_type": "code",
   "execution_count": 46,
   "metadata": {},
   "outputs": [
    {
     "name": "stdout",
     "output_type": "stream",
     "text": [
      "+--------------------+--------------------+\n",
      "|      major_category|      minor_category|\n",
      "+--------------------+--------------------+\n",
      "|     Sexual Offences|        Other Sexual|\n",
      "|               Drugs|    Drug Trafficking|\n",
      "|     Criminal Damage|Criminal Damage T...|\n",
      "|  Theft and Handling|         Other Theft|\n",
      "|            Burglary|Burglary in Other...|\n",
      "|               Drugs| Possession Of Drugs|\n",
      "|  Theft and Handling|  Other Theft Person|\n",
      "|    Fraud or Forgery|  Counted per Victim|\n",
      "|    Fraud or Forgery|Other Fraud & For...|\n",
      "|Violence Against ...|          Harassment|\n",
      "|Violence Against ...|      Other violence|\n",
      "|Violence Against ...|        Wounding/GBH|\n",
      "|Violence Against ...|    Offensive Weapon|\n",
      "|Violence Against ...|              Murder|\n",
      "|Violence Against ...|      Common Assault|\n",
      "|  Theft and Handling|Theft From Motor ...|\n",
      "|  Theft and Handling|Handling Stolen G...|\n",
      "|               Drugs|         Other Drugs|\n",
      "|     Sexual Offences|                Rape|\n",
      "|Other Notifiable ...|      Going Equipped|\n",
      "+--------------------+--------------------+\n",
      "only showing top 20 rows\n",
      "\n"
     ]
    }
   ],
   "source": [
    "query2.show()"
   ]
  },
  {
   "cell_type": "code",
   "execution_count": 75,
   "metadata": {},
   "outputs": [],
   "source": [
    "# Jumlah kejahatan terkait obat-obatan yang terjadi selama tahun 2016\n",
    "\n",
    "query3 = spark.sql(\"SELECT count(major_category) as `number of crime`, year from londoncrimes where major_category='Drugs' and year=2016 GROUP BY year\")"
   ]
  },
  {
   "cell_type": "code",
   "execution_count": 76,
   "metadata": {
    "scrolled": true
   },
   "outputs": [
    {
     "name": "stdout",
     "output_type": "stream",
     "text": [
      "+---------------+----+\n",
      "|number of crime|year|\n",
      "+---------------+----+\n",
      "|         131052|2016|\n",
      "+---------------+----+\n",
      "\n"
     ]
    }
   ],
   "source": [
    "query3.show()"
   ]
  },
  {
   "cell_type": "code",
   "execution_count": 61,
   "metadata": {},
   "outputs": [],
   "source": [
    "# Save the results to CSV --> partitioned CSV\n",
    "query3.write \\\n",
    "  .option(\"header\", \"true\") \\\n",
    "  .csv(\"file:///F:/Wahyu Ivan Satyagraha/BigData/apache spark query/query3.csv\")"
   ]
  },
  {
   "cell_type": "code",
   "execution_count": 62,
   "metadata": {},
   "outputs": [],
   "source": [
    "# Convert to Pandas\n",
    "import pandas as pd\n",
    "queryPandas = query3.toPandas()"
   ]
  },
  {
   "cell_type": "code",
   "execution_count": 65,
   "metadata": {},
   "outputs": [],
   "source": [
    "# Save to single CSV\n",
    "queryPandas.to_csv(\"F:/Wahyu Ivan Satyagraha/BigData/apache spark query/query3pandas.csv\", index=False)"
   ]
  },
  {
   "cell_type": "code",
   "execution_count": null,
   "metadata": {},
   "outputs": [],
   "source": []
  }
 ],
 "metadata": {
  "kernelspec": {
   "display_name": "Python 3",
   "language": "python",
   "name": "python3"
  },
  "language_info": {
   "codemirror_mode": {
    "name": "ipython",
    "version": 3
   },
   "file_extension": ".py",
   "mimetype": "text/x-python",
   "name": "python",
   "nbconvert_exporter": "python",
   "pygments_lexer": "ipython3",
   "version": "3.6.8"
  }
 },
 "nbformat": 4,
 "nbformat_minor": 2
}
